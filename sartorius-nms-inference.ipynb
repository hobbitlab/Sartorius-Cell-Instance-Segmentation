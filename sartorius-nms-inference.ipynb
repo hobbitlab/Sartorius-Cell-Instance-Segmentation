{
 "cells": [
  {
   "cell_type": "markdown",
   "id": "f10637d2",
   "metadata": {
    "papermill": {
     "duration": 0.016553,
     "end_time": "2021-12-30T15:07:51.149744",
     "exception": false,
     "start_time": "2021-12-30T15:07:51.133191",
     "status": "completed"
    },
    "tags": []
   },
   "source": [
    "# Ensemble NMS - Detectron2 [Inference]"
   ]
  },
  {
   "cell_type": "code",
   "execution_count": null,
   "id": "7540d29c",
   "metadata": {},
   "outputs": [],
   "source": [
    "# fork from: https://www.kaggle.com/ammarnassanalhajali/ensemble-non-maximum-supp-detectron2-inference"
   ]
  },
  {
   "cell_type": "code",
   "execution_count": null,
   "id": "97ae74d7",
   "metadata": {
    "_kg_hide-input": true,
    "_kg_hide-output": true,
    "execution": {
     "iopub.execute_input": "2021-12-30T15:07:51.300154Z",
     "iopub.status.busy": "2021-12-30T15:07:51.299394Z",
     "iopub.status.idle": "2021-12-30T15:11:18.181033Z",
     "shell.execute_reply": "2021-12-30T15:11:18.181619Z",
     "shell.execute_reply.started": "2021-12-30T05:18:34.185318Z"
    },
    "papermill": {
     "duration": 206.915289,
     "end_time": "2021-12-30T15:11:18.181926",
     "exception": false,
     "start_time": "2021-12-30T15:07:51.266637",
     "status": "completed"
    },
    "scrolled": true,
    "tags": []
   },
   "outputs": [],
   "source": [
    "!pip install ../input/detectron-05/whls/pycocotools-2.0.2/dist/pycocotools-2.0.2.tar --no-index --find-links ../input/detectron-05/whls \n",
    "!pip install ../input/detectron-05/whls/fvcore-0.1.5.post20211019/fvcore-0.1.5.post20211019 --no-index --find-links ../input/detectron-05/whls \n",
    "!pip install ../input/detectron-05/whls/antlr4-python3-runtime-4.8/antlr4-python3-runtime-4.8 --no-index --find-links ../input/detectron-05/whls \n",
    "!pip install ../input/detectron-05/whls/detectron2-0.5/detectron2 --no-index --find-links ../input/detectron-05/whls \n",
    "!pip install ../input/ensemble-boxes-104/ensemble_boxes-1.0.4/ -f ./ --no-index"
   ]
  },
  {
   "cell_type": "code",
   "execution_count": 2,
   "id": "d352a9af",
   "metadata": {
    "execution": {
     "iopub.execute_input": "2021-12-30T15:11:18.254848Z",
     "iopub.status.busy": "2021-12-30T15:11:18.254068Z",
     "iopub.status.idle": "2021-12-30T15:11:19.907687Z",
     "shell.execute_reply": "2021-12-30T15:11:19.908242Z",
     "shell.execute_reply.started": "2021-12-30T05:21:52.464088Z"
    },
    "papermill": {
     "duration": 1.693866,
     "end_time": "2021-12-30T15:11:19.908449",
     "exception": false,
     "start_time": "2021-12-30T15:11:18.214583",
     "status": "completed"
    },
    "tags": []
   },
   "outputs": [
    {
     "name": "stdout",
     "output_type": "stream",
     "text": [
      "GPU is available\n",
      "detectron ver: 0.5\n"
     ]
    }
   ],
   "source": [
    "import os\n",
    "import cv2\n",
    "import json\n",
    "import time\n",
    "import numpy as np\n",
    "import pandas as pd\n",
    "import torch\n",
    "import detectron2\n",
    "from tqdm.auto import tqdm\n",
    "from detectron2 import model_zoo\n",
    "from detectron2.engine import DefaultPredictor\n",
    "from detectron2.config import get_cfg\n",
    "from detectron2.data.datasets import register_coco_instances\n",
    "from detectron2.evaluation import inference_on_dataset\n",
    "from detectron2.evaluation.evaluator import DatasetEvaluator\n",
    "from detectron2.data import DatasetCatalog, build_detection_test_loader\n",
    "import pycocotools.mask as mask_util\n",
    "from PIL import Image\n",
    "import matplotlib.pyplot as plt\n",
    "from fastcore.all import *\n",
    "from ensemble_boxes import *\n",
    "os.environ['CUDA_VISIBLE_DEVICES'] = '0' \n",
    "if torch.cuda.is_available():\n",
    "    DEVICE = torch.device('cuda')\n",
    "    print('GPU is available')\n",
    "else:\n",
    "    DEVICE = torch.device('cpu')\n",
    "    print('CPU is used')\n",
    "print('detectron ver:', detectron2.__version__) "
   ]
  },
  {
   "cell_type": "markdown",
   "id": "0b03ff38",
   "metadata": {
    "papermill": {
     "duration": 0.033024,
     "end_time": "2021-12-30T15:11:19.974867",
     "exception": false,
     "start_time": "2021-12-30T15:11:19.941843",
     "status": "completed"
    },
    "tags": []
   },
   "source": [
    "## My Models"
   ]
  },
  {
   "cell_type": "code",
   "execution_count": 3,
   "id": "9b263949",
   "metadata": {
    "execution": {
     "iopub.execute_input": "2021-12-30T15:11:20.048037Z",
     "iopub.status.busy": "2021-12-30T15:11:20.047256Z",
     "iopub.status.idle": "2021-12-30T15:11:20.050048Z",
     "shell.execute_reply": "2021-12-30T15:11:20.049554Z",
     "shell.execute_reply.started": "2021-12-30T05:29:28.802500Z"
    },
    "papermill": {
     "duration": 0.041724,
     "end_time": "2021-12-30T15:11:20.050170",
     "exception": false,
     "start_time": "2021-12-30T15:11:20.008446",
     "status": "completed"
    },
    "tags": []
   },
   "outputs": [],
   "source": [
    "# 参与Ensemble的模型\n",
    "best_model=( {'file': 'model_best_mask_rcnn_R_50_FPN_3x_fold1.pth','config_name':'COCO-InstanceSegmentation/mask_rcnn_R_50_FPN_3x.yaml', 'LB score': 0.325,'ths':[.17, .30, .60]},\n",
    "             {'file': 'model_best_mask_rcnn_R_50_FPN_3x_fold2.pth','config_name':'COCO-InstanceSegmentation/mask_rcnn_R_50_FPN_3x.yaml', 'LB score': 0.324,'ths':[.20, .36, .65]}\n",
    "             {'file': 'model_best_mask_rcnn_R_50_FPN_3x_fold4.pth','config_name':'COCO-InstanceSegmentation/mask_rcnn_R_50_FPN_3x.yaml', 'LB score': 0.326,'ths':[.20, .30, .63]})"
   ]
  },
  {
   "cell_type": "code",
   "execution_count": 4,
   "id": "ac75b8d9",
   "metadata": {
    "execution": {
     "iopub.execute_input": "2021-12-30T15:11:20.124081Z",
     "iopub.status.busy": "2021-12-30T15:11:20.123285Z",
     "iopub.status.idle": "2021-12-30T15:11:44.909013Z",
     "shell.execute_reply": "2021-12-30T15:11:44.908473Z",
     "shell.execute_reply.started": "2021-12-30T05:29:30.932553Z"
    },
    "papermill": {
     "duration": 24.826216,
     "end_time": "2021-12-30T15:11:44.909152",
     "exception": false,
     "start_time": "2021-12-30T15:11:20.082936",
     "status": "completed"
    },
    "scrolled": true,
    "tags": []
   },
   "outputs": [
    {
     "name": "stdout",
     "output_type": "stream",
     "text": [
      "{'file': 'cascade_mask_rcnn_X_152_32x8d_FPN_IN5k_gn_dconv.yaml509.pth', 'config_name': 'Misc/cascade_mask_rcnn_X_152_32x8d_FPN_IN5k_gn_dconv.yaml', 'LB score': 0.307, 'ths': [0.21, 0.39, 0.66], 'MIN_SIZE_TEST': 1032}\n",
      "cascade_mask_rcnn_X_152_32x8d_FPN_IN5k_gn_dconv.yaml509.pth\n",
      "cascade_mask_rcnn_X_152_32x8d_FPN_IN5k_gn_dconv.yaml509.pth\n",
      "Misc/cascade_mask_rcnn_X_152_32x8d_FPN_IN5k_gn_dconv.yaml\n",
      "{'file': '122518_model_cascade_mask_rcnn_R_50_FPN_3x_0021824_3023.pth', 'config_name': 'Misc/cascade_mask_rcnn_R_50_FPN_3x.yaml', 'LB score': 0.268, 'ths': [0.25, 0.45, 0.65], 'MIN_SIZE_TEST': 1032}\n",
      "122518_model_cascade_mask_rcnn_R_50_FPN_3x_0021824_3023.pth\n",
      "122518_model_cascade_mask_rcnn_R_50_FPN_3x_0021824_3023.pth\n",
      "Misc/cascade_mask_rcnn_R_50_FPN_3x.yaml\n"
     ]
    }
   ],
   "source": [
    "mdl_path = \"../input/best_model\" # 权重文件路径\n",
    "DATA_PATH = \"../input/sartorius-cell-instance-segmentation\" # 数据路径\n",
    "MODELS = []\n",
    "BEST_MODELS =[]\n",
    "THSS = []\n",
    "ID_TEST = 0\n",
    "SUBM_PATH = f'{DATA_PATH}/test'\n",
    "SINGLE_MODE = False\n",
    "NMS = True\n",
    "MIN_PIXELS = [75, 150, 75] # 实例要求最小的像素（三个数值对应三个标签）\n",
    "IOU_TH = .4\n",
    "for b_m in best_model:\n",
    "    model_name=b_m[\"file\"] # 权重文件名称\n",
    "    model_ths=b_m[\"ths\"] # 同SCORE_THRESH_TEST（三个数值对应三个标签）\n",
    "    config_name=b_m[\"config_name\"] # 模型结构yaml\n",
    "    BEST_MODELS.append(model_name)\n",
    "    THSS.append(model_ths)\n",
    "    cfg = get_cfg()\n",
    "    cfg.merge_from_file(model_zoo.get_config_file(config_name)) # 使用模型结构yaml\n",
    "    cfg.DATALOADER.NUM_WORKERS = 4 # cpu线程数\n",
    "    cfg.MODEL.ANCHOR_GENERATOR.ASPECT_RATIOS = [[0.2, 0.5, 1.0, 2.0, 5.0]] # anchor长和宽的比例\n",
    "    cfg.MODEL.ANCHOR_GENERATOR.SIZES = [[4], [8],[16],[64],[256]] # anchor的尺寸\n",
    "\n",
    "    cfg.INPUT.MASK_FORMAT='bitmask' # label读取格式为bitmask\n",
    "    cfg.MODEL.ROI_HEADS.NUM_CLASSES = 3 # 标签类别数量\n",
    "    cfg.TEST.DETECTIONS_PER_IMAGE = 1000 # 每张图片支持检测的最大实例数量\n",
    "    cfg.MODEL.ROI_HEADS.BATCH_SIZE_PER_IMAGE = 128 # 每个图像用于训练RPN的区域数\n",
    "\n",
    "    cfg.SEED = 42  随机种子\n",
    "    cfg.INPUT.MIN_SIZE_TRAIN =  (480, 520,  560, 640, 672, 736, 800, 864, 928)  # 训练阶段短边的最小值（多尺寸）\n",
    "    cfg.INPUT.MIN_SIZE_TEST = 928 # 测试阶段短边的最小值\n",
    "\n",
    "    cfg.MODEL.WEIGHTS = f'{mdl_path}/{model_name}' # 导入模型权重\n",
    "    MODELS.append(DefaultPredictor(cfg))"
   ]
  },
  {
   "cell_type": "code",
   "execution_count": 5,
   "id": "72706ebe",
   "metadata": {
    "execution": {
     "iopub.execute_input": "2021-12-30T15:11:44.984715Z",
     "iopub.status.busy": "2021-12-30T15:11:44.984148Z",
     "iopub.status.idle": "2021-12-30T15:11:44.988015Z",
     "shell.execute_reply": "2021-12-30T15:11:44.988422Z",
     "shell.execute_reply.started": "2021-12-30T05:21:55.339770Z"
    },
    "papermill": {
     "duration": 0.04372,
     "end_time": "2021-12-30T15:11:44.988559",
     "exception": false,
     "start_time": "2021-12-30T15:11:44.944839",
     "status": "completed"
    },
    "tags": []
   },
   "outputs": [
    {
     "data": {
      "text/plain": [
       "[<detectron2.engine.defaults.DefaultPredictor at 0x7f118427af50>,\n",
       " <detectron2.engine.defaults.DefaultPredictor at 0x7f117248ee50>]"
      ]
     },
     "execution_count": 5,
     "metadata": {},
     "output_type": "execute_result"
    }
   ],
   "source": [
    "MODELS"
   ]
  },
  {
   "cell_type": "markdown",
   "id": "4509c863",
   "metadata": {
    "papermill": {
     "duration": 0.0339,
     "end_time": "2021-12-30T15:11:45.056572",
     "exception": false,
     "start_time": "2021-12-30T15:11:45.022672",
     "status": "completed"
    },
    "tags": []
   },
   "source": [
    "## Utils"
   ]
  },
  {
   "cell_type": "code",
   "execution_count": 6,
   "id": "3c886d78",
   "metadata": {
    "execution": {
     "iopub.execute_input": "2021-12-30T15:11:45.136005Z",
     "iopub.status.busy": "2021-12-30T15:11:45.125395Z",
     "iopub.status.idle": "2021-12-30T15:11:45.150293Z",
     "shell.execute_reply": "2021-12-30T15:11:45.149712Z",
     "shell.execute_reply.started": "2021-12-30T05:21:55.347430Z"
    },
    "papermill": {
     "duration": 0.060918,
     "end_time": "2021-12-30T15:11:45.150406",
     "exception": false,
     "start_time": "2021-12-30T15:11:45.089488",
     "status": "completed"
    },
    "tags": []
   },
   "outputs": [],
   "source": [
    "def rle_decode(mask_rle, shape=(520, 704)):\n",
    "    '''\n",
    "    mask_rle: run-length as string formated (start length)\n",
    "    shape: (height,width) of array to return \n",
    "    Returns numpy array, 1 - mask, 0 - background\n",
    "\n",
    "    '''\n",
    "    s = mask_rle.split()\n",
    "    starts, lengths = [np.asarray(x, dtype=int) \n",
    "                       for x in (s[0:][::2], s[1:][::2])]\n",
    "    starts -= 1\n",
    "    ends = starts + lengths\n",
    "    img = np.zeros(shape[0] * shape[1], dtype=np.uint8)\n",
    "    for lo, hi in zip(starts, ends):\n",
    "        img[lo : hi] = 1\n",
    "    return img.reshape(shape)  # Needed to align to RLE direction\n",
    "\n",
    "def rle_encode(img):\n",
    "    '''\n",
    "    img: numpy array, 1 - mask, 0 - background\n",
    "    Returns run length as string formated\n",
    "    \n",
    "    '''\n",
    "    pixels = img.flatten()\n",
    "    pixels = np.concatenate([[0], pixels, [0]])\n",
    "    runs = np.where(pixels[1:] != pixels[:-1])[0] + 1\n",
    "    runs[1::2] -= runs[::2]\n",
    "    return ' '.join(str(x) for x in runs)\n",
    "\n",
    "def pred_masks(file_name, path, model, ths, min_pixels):\n",
    "    img = cv2.imread(f'{path}/{file_name}')\n",
    "    output = model(img)\n",
    "    pred_classes = output['instances'].pred_classes.cpu().numpy().tolist()\n",
    "    pred_class = max(set(pred_classes), key=pred_classes.count)\n",
    "    take = output['instances'].scores >= ths[pred_class]\n",
    "    pred_masks = output['instances'].pred_masks[take]\n",
    "    pred_masks = pred_masks.cpu().numpy()\n",
    "    result = []\n",
    "    used = np.zeros(img.shape[:2], dtype=int) \n",
    "    for i, mask in enumerate(pred_masks):\n",
    "        mask = mask * (1 - used)\n",
    "        if mask.sum() >= min_pixels[pred_class]:\n",
    "            used += mask\n",
    "            result.append(rle_encode(mask))\n",
    "    return result\n",
    "\n",
    "def ensemble_preds(file_name, path, models, ths):\n",
    "    img = cv2.imread(f'{path}/{file_name}')\n",
    "    classes = []\n",
    "    scores = []\n",
    "    bboxes = []\n",
    "    masks = []\n",
    "    for i, model in enumerate(models):\n",
    "        output = model(img)\n",
    "        pred_classes = output['instances'].pred_classes.cpu().numpy().tolist()\n",
    "        pred_class = max(set(pred_classes), key=pred_classes.count)\n",
    "        take = output['instances'].scores >= ths[i][pred_class]\n",
    "        classes.extend(output['instances'].pred_classes[take].cpu().numpy().tolist())\n",
    "        scores.extend(output['instances'].scores[take].cpu().numpy().tolist())\n",
    "        bboxes.extend(output['instances'].pred_boxes[take].tensor.cpu().numpy().tolist())\n",
    "        masks.extend(output['instances'].pred_masks[take].cpu().numpy())\n",
    "    assert len(classes) == len(masks) , 'ensemble lenght mismatch'\n",
    "    #scores, classes, bboxes, masks = zip(*sorted(zip(scores, classes, bboxes, masks),reverse=True))\n",
    "    return classes, scores, bboxes, masks\n",
    "\n",
    "def nms_predictions(classes, scores, bboxes, masks, \n",
    "                    iou_th=.5, shape=(520, 704)):\n",
    "    he, wd = shape[0], shape[1]\n",
    "    boxes_list = [[x[0] / wd, x[1] / he, x[2] / wd, x[3] / he]\n",
    "                  for x in bboxes]\n",
    "    scores_list = [x for x in scores]\n",
    "    labels_list = [x for x in classes]\n",
    "    nms_bboxes, nms_scores, nms_classes = nms(\n",
    "        boxes=[boxes_list], \n",
    "        scores=[scores_list], \n",
    "        labels=[labels_list], \n",
    "        weights=None,\n",
    "        iou_thr=iou_th\n",
    "    )\n",
    "    nms_masks = []\n",
    "    for s in nms_scores:\n",
    "        nms_masks.append(masks[scores.index(s)])\n",
    "    nms_scores, nms_classes, nms_masks = zip(*sorted(zip(nms_scores, nms_classes, nms_masks), reverse=True))\n",
    "    return nms_classes, nms_scores, nms_masks\n",
    "\n",
    "def ensemble_pred_masks(masks, classes, min_pixels, shape=(520, 704)):\n",
    "    result = []\n",
    "    pred_class = max(set(classes), key=classes.count)\n",
    "    used = np.zeros(shape, dtype=int) \n",
    "    for i, mask in enumerate(masks):\n",
    "        mask = mask * (1 - used)\n",
    "        if mask.sum() >= min_pixels[pred_class]:\n",
    "            used += mask\n",
    "            result.append(rle_encode(mask))\n",
    "    return result"
   ]
  },
  {
   "cell_type": "markdown",
   "id": "e60915cf",
   "metadata": {
    "papermill": {
     "duration": 0.032983,
     "end_time": "2021-12-30T15:11:45.216316",
     "exception": false,
     "start_time": "2021-12-30T15:11:45.183333",
     "status": "completed"
    },
    "tags": []
   },
   "source": [
    "## Demo inference"
   ]
  },
  {
   "cell_type": "code",
   "execution_count": null,
   "id": "5bbba815",
   "metadata": {
    "execution": {
     "iopub.execute_input": "2021-12-30T15:11:45.294718Z",
     "iopub.status.busy": "2021-12-30T15:11:45.293909Z",
     "iopub.status.idle": "2021-12-30T15:11:45.302604Z",
     "shell.execute_reply": "2021-12-30T15:11:45.303502Z",
     "shell.execute_reply.started": "2021-12-30T05:21:55.374040Z"
    },
    "papermill": {
     "duration": 0.054039,
     "end_time": "2021-12-30T15:11:45.303709",
     "exception": false,
     "start_time": "2021-12-30T15:11:45.249670",
     "status": "completed"
    },
    "tags": []
   },
   "outputs": [],
   "source": [
    "test_names = os.listdir(SUBM_PATH)\n",
    "print('test images:', len(test_names))"
   ]
  },
  {
   "cell_type": "code",
   "execution_count": null,
   "id": "710244bc",
   "metadata": {
    "execution": {
     "iopub.execute_input": "2021-12-30T15:11:45.435223Z",
     "iopub.status.busy": "2021-12-30T15:11:45.434556Z",
     "iopub.status.idle": "2021-12-30T15:11:52.026740Z",
     "shell.execute_reply": "2021-12-30T15:11:52.026232Z",
     "shell.execute_reply.started": "2021-12-30T05:21:55.389404Z"
    },
    "papermill": {
     "duration": 6.658656,
     "end_time": "2021-12-30T15:11:52.026891",
     "exception": false,
     "start_time": "2021-12-30T15:11:45.368235",
     "status": "completed"
    },
    "tags": []
   },
   "outputs": [],
   "source": [
    "encoded_masks_single = pred_masks(\n",
    "    test_names[ID_TEST], \n",
    "    path=SUBM_PATH, \n",
    "    model=MODELS[0],\n",
    "    ths=THSS[0],\n",
    "    min_pixels=MIN_PIXELS\n",
    ")"
   ]
  },
  {
   "cell_type": "code",
   "execution_count": 9,
   "id": "dc7bbb16",
   "metadata": {
    "execution": {
     "iopub.execute_input": "2021-12-30T15:11:52.100262Z",
     "iopub.status.busy": "2021-12-30T15:11:52.099739Z",
     "iopub.status.idle": "2021-12-30T15:11:56.250358Z",
     "shell.execute_reply": "2021-12-30T15:11:56.250884Z",
     "shell.execute_reply.started": "2021-12-30T05:21:55.718400Z"
    },
    "papermill": {
     "duration": 4.189801,
     "end_time": "2021-12-30T15:11:56.251058",
     "exception": false,
     "start_time": "2021-12-30T15:11:52.061257",
     "status": "completed"
    },
    "tags": []
   },
   "outputs": [],
   "source": [
    "classes, scores, bboxes, masks = ensemble_preds(\n",
    "    file_name=test_names[ID_TEST] , \n",
    "    path=SUBM_PATH, \n",
    "    models=MODELS, \n",
    "    ths=THSS\n",
    ")\n",
    "if NMS:\n",
    "    classes, scores, masks = nms_predictions(\n",
    "        classes, \n",
    "        scores, \n",
    "        bboxes,\n",
    "        masks, iou_th=IOU_TH\n",
    "    )\n",
    "encoded_masks = ensemble_pred_masks(masks, classes, min_pixels=MIN_PIXELS)"
   ]
  },
  {
   "cell_type": "code",
   "execution_count": null,
   "id": "cdd214df",
   "metadata": {
    "execution": {
     "iopub.execute_input": "2021-12-30T15:11:56.376797Z",
     "iopub.status.busy": "2021-12-30T15:11:56.375885Z",
     "iopub.status.idle": "2021-12-30T15:12:14.552271Z",
     "shell.execute_reply": "2021-12-30T15:12:14.552812Z",
     "shell.execute_reply.started": "2021-12-30T05:21:56.345947Z"
    },
    "papermill": {
     "duration": 18.254762,
     "end_time": "2021-12-30T15:12:14.552987",
     "exception": false,
     "start_time": "2021-12-30T15:11:56.298225",
     "status": "completed"
    },
    "tags": []
   },
   "outputs": [],
   "source": [
    "_, axs = plt.subplots(2, 2, figsize=(14, 8))\n",
    "axs[0][0].imshow(cv2.imread(f'{SUBM_PATH}/{test_names[ID_TEST]}'))\n",
    "axs[0][0].axis('off')\n",
    "axs[0][0].set_title(test_names[ID_TEST])\n",
    "for en_mask in encoded_masks_single:\n",
    "    dec_mask = rle_decode(en_mask)\n",
    "    axs[0][1].imshow(np.ma.masked_where(dec_mask == 0, dec_mask))\n",
    "    axs[0][1].axis('off')\n",
    "    axs[0][1].set_title('single model')\n",
    "axs[1][0].imshow(cv2.imread(f'{SUBM_PATH}/{test_names[ID_TEST]}'))\n",
    "axs[1][0].axis('off')\n",
    "axs[1][0].set_title(test_names[ID_TEST])\n",
    "for en_mask in encoded_masks:\n",
    "    dec_mask = rle_decode(en_mask)\n",
    "    axs[1][1].imshow(np.ma.masked_where(dec_mask == 0, dec_mask))\n",
    "    axs[1][1].axis('off')\n",
    "    axs[1][1].set_title('ensemble models')\n",
    "plt.show()"
   ]
  },
  {
   "cell_type": "markdown",
   "id": "4aca2dde",
   "metadata": {
    "papermill": {
     "duration": 0.03725,
     "end_time": "2021-12-30T15:12:14.628102",
     "exception": false,
     "start_time": "2021-12-30T15:12:14.590852",
     "status": "completed"
    },
    "tags": []
   },
   "source": [
    "## Inference"
   ]
  },
  {
   "cell_type": "code",
   "execution_count": 11,
   "id": "4edef3f4",
   "metadata": {
    "execution": {
     "iopub.execute_input": "2021-12-30T15:12:14.709188Z",
     "iopub.status.busy": "2021-12-30T15:12:14.708513Z",
     "iopub.status.idle": "2021-12-30T15:12:18.145853Z",
     "shell.execute_reply": "2021-12-30T15:12:18.145381Z",
     "shell.execute_reply.started": "2021-12-30T05:21:56.348104Z"
    },
    "papermill": {
     "duration": 3.48107,
     "end_time": "2021-12-30T15:12:18.145980",
     "exception": false,
     "start_time": "2021-12-30T15:12:14.664910",
     "status": "completed"
    },
    "tags": []
   },
   "outputs": [
    {
     "data": {
      "application/vnd.jupyter.widget-view+json": {
       "model_id": "9cc4e70f5de54391b369751e2e675286",
       "version_major": 2,
       "version_minor": 0
      },
      "text/plain": [
       "  0%|          | 0/3 [00:00<?, ?it/s]"
      ]
     },
     "metadata": {},
     "output_type": "display_data"
    }
   ],
   "source": [
    "subm_ids, subm_masks = [], []\n",
    "for test_name in tqdm(test_names):\n",
    "    if SINGLE_MODE:\n",
    "        encoded_masks = pred_masks(\n",
    "            test_name, \n",
    "            path=SUBM_PATH, \n",
    "            model=MODELS[0],\n",
    "            ths=THSS[0],\n",
    "            min_pixels=MIN_PIXELS\n",
    "        )\n",
    "    else:\n",
    "        classes, scores, bboxes, masks = ensemble_preds(\n",
    "            file_name=test_name, \n",
    "            path=SUBM_PATH, \n",
    "            models=MODELS, \n",
    "            ths=THSS\n",
    "        )\n",
    "        if NMS:\n",
    "            classes, scores, masks = nms_predictions(\n",
    "                classes, \n",
    "                scores, \n",
    "                bboxes, \n",
    "                masks, \n",
    "                iou_th=IOU_TH\n",
    "            )\n",
    "        encoded_masks = ensemble_pred_masks(\n",
    "            masks, \n",
    "            classes, \n",
    "            min_pixels=MIN_PIXELS\n",
    "        )\n",
    "    for enc_mask in encoded_masks:\n",
    "        subm_ids.append(test_name[:test_name.find('.')])\n",
    "        subm_masks.append(enc_mask)"
   ]
  },
  {
   "cell_type": "code",
   "execution_count": null,
   "id": "df3358bb",
   "metadata": {
    "execution": {
     "iopub.execute_input": "2021-12-30T15:12:18.229984Z",
     "iopub.status.busy": "2021-12-30T15:12:18.229303Z",
     "iopub.status.idle": "2021-12-30T15:12:18.253052Z",
     "shell.execute_reply": "2021-12-30T15:12:18.252633Z",
     "shell.execute_reply.started": "2021-12-30T05:21:56.350191Z"
    },
    "papermill": {
     "duration": 0.068976,
     "end_time": "2021-12-30T15:12:18.253166",
     "exception": false,
     "start_time": "2021-12-30T15:12:18.184190",
     "status": "completed"
    },
    "scrolled": true,
    "tags": []
   },
   "outputs": [],
   "source": [
    "pd.DataFrame({\n",
    "    'id': subm_ids, \n",
    "    'predicted': subm_masks\n",
    "}).to_csv('submission.csv', index=False)\n",
    "pd.read_csv('submission.csv').head()"
   ]
  }
 ],
 "metadata": {
  "kernelspec": {
   "display_name": "Python 3",
   "language": "python",
   "name": "python3"
  },
  "language_info": {
   "codemirror_mode": {
    "name": "ipython",
    "version": 3
   },
   "file_extension": ".py",
   "mimetype": "text/x-python",
   "name": "python",
   "nbconvert_exporter": "python",
   "pygments_lexer": "ipython3",
   "version": "3.7.10"
  },
  "papermill": {
   "default_parameters": {},
   "duration": 276.108636,
   "end_time": "2021-12-30T15:12:19.761895",
   "environment_variables": {},
   "exception": null,
   "input_path": "__notebook__.ipynb",
   "output_path": "__notebook__.ipynb",
   "parameters": {},
   "start_time": "2021-12-30T15:07:43.653259",
   "version": "2.3.3"
  },
  "widgets": {
   "application/vnd.jupyter.widget-state+json": {
    "state": {
     "0dd0c43082ea4e96ab5b17db9772c126": {
      "model_module": "@jupyter-widgets/controls",
      "model_module_version": "1.5.0",
      "model_name": "ProgressStyleModel",
      "state": {
       "_model_module": "@jupyter-widgets/controls",
       "_model_module_version": "1.5.0",
       "_model_name": "ProgressStyleModel",
       "_view_count": null,
       "_view_module": "@jupyter-widgets/base",
       "_view_module_version": "1.2.0",
       "_view_name": "StyleView",
       "bar_color": null,
       "description_width": ""
      }
     },
     "30960a2004234ac8851a6e2f898cadc5": {
      "model_module": "@jupyter-widgets/base",
      "model_module_version": "1.2.0",
      "model_name": "LayoutModel",
      "state": {
       "_model_module": "@jupyter-widgets/base",
       "_model_module_version": "1.2.0",
       "_model_name": "LayoutModel",
       "_view_count": null,
       "_view_module": "@jupyter-widgets/base",
       "_view_module_version": "1.2.0",
       "_view_name": "LayoutView",
       "align_content": null,
       "align_items": null,
       "align_self": null,
       "border": null,
       "bottom": null,
       "display": null,
       "flex": null,
       "flex_flow": null,
       "grid_area": null,
       "grid_auto_columns": null,
       "grid_auto_flow": null,
       "grid_auto_rows": null,
       "grid_column": null,
       "grid_gap": null,
       "grid_row": null,
       "grid_template_areas": null,
       "grid_template_columns": null,
       "grid_template_rows": null,
       "height": null,
       "justify_content": null,
       "justify_items": null,
       "left": null,
       "margin": null,
       "max_height": null,
       "max_width": null,
       "min_height": null,
       "min_width": null,
       "object_fit": null,
       "object_position": null,
       "order": null,
       "overflow": null,
       "overflow_x": null,
       "overflow_y": null,
       "padding": null,
       "right": null,
       "top": null,
       "visibility": null,
       "width": null
      }
     },
     "56f33fd1f7ad45399afef921204f73f8": {
      "model_module": "@jupyter-widgets/controls",
      "model_module_version": "1.5.0",
      "model_name": "DescriptionStyleModel",
      "state": {
       "_model_module": "@jupyter-widgets/controls",
       "_model_module_version": "1.5.0",
       "_model_name": "DescriptionStyleModel",
       "_view_count": null,
       "_view_module": "@jupyter-widgets/base",
       "_view_module_version": "1.2.0",
       "_view_name": "StyleView",
       "description_width": ""
      }
     },
     "5a6cff62c7f74f56a62833c6257d1b08": {
      "model_module": "@jupyter-widgets/controls",
      "model_module_version": "1.5.0",
      "model_name": "HTMLModel",
      "state": {
       "_dom_classes": [],
       "_model_module": "@jupyter-widgets/controls",
       "_model_module_version": "1.5.0",
       "_model_name": "HTMLModel",
       "_view_count": null,
       "_view_module": "@jupyter-widgets/controls",
       "_view_module_version": "1.5.0",
       "_view_name": "HTMLView",
       "description": "",
       "description_tooltip": null,
       "layout": "IPY_MODEL_6f67cfa183fc45eda1f268ba25db2f73",
       "placeholder": "​",
       "style": "IPY_MODEL_56f33fd1f7ad45399afef921204f73f8",
       "value": "100%"
      }
     },
     "6049487caa544d859fa7d58458a8fe01": {
      "model_module": "@jupyter-widgets/base",
      "model_module_version": "1.2.0",
      "model_name": "LayoutModel",
      "state": {
       "_model_module": "@jupyter-widgets/base",
       "_model_module_version": "1.2.0",
       "_model_name": "LayoutModel",
       "_view_count": null,
       "_view_module": "@jupyter-widgets/base",
       "_view_module_version": "1.2.0",
       "_view_name": "LayoutView",
       "align_content": null,
       "align_items": null,
       "align_self": null,
       "border": null,
       "bottom": null,
       "display": null,
       "flex": null,
       "flex_flow": null,
       "grid_area": null,
       "grid_auto_columns": null,
       "grid_auto_flow": null,
       "grid_auto_rows": null,
       "grid_column": null,
       "grid_gap": null,
       "grid_row": null,
       "grid_template_areas": null,
       "grid_template_columns": null,
       "grid_template_rows": null,
       "height": null,
       "justify_content": null,
       "justify_items": null,
       "left": null,
       "margin": null,
       "max_height": null,
       "max_width": null,
       "min_height": null,
       "min_width": null,
       "object_fit": null,
       "object_position": null,
       "order": null,
       "overflow": null,
       "overflow_x": null,
       "overflow_y": null,
       "padding": null,
       "right": null,
       "top": null,
       "visibility": null,
       "width": null
      }
     },
     "6f67cfa183fc45eda1f268ba25db2f73": {
      "model_module": "@jupyter-widgets/base",
      "model_module_version": "1.2.0",
      "model_name": "LayoutModel",
      "state": {
       "_model_module": "@jupyter-widgets/base",
       "_model_module_version": "1.2.0",
       "_model_name": "LayoutModel",
       "_view_count": null,
       "_view_module": "@jupyter-widgets/base",
       "_view_module_version": "1.2.0",
       "_view_name": "LayoutView",
       "align_content": null,
       "align_items": null,
       "align_self": null,
       "border": null,
       "bottom": null,
       "display": null,
       "flex": null,
       "flex_flow": null,
       "grid_area": null,
       "grid_auto_columns": null,
       "grid_auto_flow": null,
       "grid_auto_rows": null,
       "grid_column": null,
       "grid_gap": null,
       "grid_row": null,
       "grid_template_areas": null,
       "grid_template_columns": null,
       "grid_template_rows": null,
       "height": null,
       "justify_content": null,
       "justify_items": null,
       "left": null,
       "margin": null,
       "max_height": null,
       "max_width": null,
       "min_height": null,
       "min_width": null,
       "object_fit": null,
       "object_position": null,
       "order": null,
       "overflow": null,
       "overflow_x": null,
       "overflow_y": null,
       "padding": null,
       "right": null,
       "top": null,
       "visibility": null,
       "width": null
      }
     },
     "91f477dcdea34962b368d345c8c9a0ca": {
      "model_module": "@jupyter-widgets/base",
      "model_module_version": "1.2.0",
      "model_name": "LayoutModel",
      "state": {
       "_model_module": "@jupyter-widgets/base",
       "_model_module_version": "1.2.0",
       "_model_name": "LayoutModel",
       "_view_count": null,
       "_view_module": "@jupyter-widgets/base",
       "_view_module_version": "1.2.0",
       "_view_name": "LayoutView",
       "align_content": null,
       "align_items": null,
       "align_self": null,
       "border": null,
       "bottom": null,
       "display": null,
       "flex": null,
       "flex_flow": null,
       "grid_area": null,
       "grid_auto_columns": null,
       "grid_auto_flow": null,
       "grid_auto_rows": null,
       "grid_column": null,
       "grid_gap": null,
       "grid_row": null,
       "grid_template_areas": null,
       "grid_template_columns": null,
       "grid_template_rows": null,
       "height": null,
       "justify_content": null,
       "justify_items": null,
       "left": null,
       "margin": null,
       "max_height": null,
       "max_width": null,
       "min_height": null,
       "min_width": null,
       "object_fit": null,
       "object_position": null,
       "order": null,
       "overflow": null,
       "overflow_x": null,
       "overflow_y": null,
       "padding": null,
       "right": null,
       "top": null,
       "visibility": null,
       "width": null
      }
     },
     "9cc4e70f5de54391b369751e2e675286": {
      "model_module": "@jupyter-widgets/controls",
      "model_module_version": "1.5.0",
      "model_name": "HBoxModel",
      "state": {
       "_dom_classes": [],
       "_model_module": "@jupyter-widgets/controls",
       "_model_module_version": "1.5.0",
       "_model_name": "HBoxModel",
       "_view_count": null,
       "_view_module": "@jupyter-widgets/controls",
       "_view_module_version": "1.5.0",
       "_view_name": "HBoxView",
       "box_style": "",
       "children": [
        "IPY_MODEL_5a6cff62c7f74f56a62833c6257d1b08",
        "IPY_MODEL_f950875548524fbe80dae20240cbe41f",
        "IPY_MODEL_e62c49182656451bad3bc68483feed4e"
       ],
       "layout": "IPY_MODEL_6049487caa544d859fa7d58458a8fe01"
      }
     },
     "e62c49182656451bad3bc68483feed4e": {
      "model_module": "@jupyter-widgets/controls",
      "model_module_version": "1.5.0",
      "model_name": "HTMLModel",
      "state": {
       "_dom_classes": [],
       "_model_module": "@jupyter-widgets/controls",
       "_model_module_version": "1.5.0",
       "_model_name": "HTMLModel",
       "_view_count": null,
       "_view_module": "@jupyter-widgets/controls",
       "_view_module_version": "1.5.0",
       "_view_name": "HTMLView",
       "description": "",
       "description_tooltip": null,
       "layout": "IPY_MODEL_91f477dcdea34962b368d345c8c9a0ca",
       "placeholder": "​",
       "style": "IPY_MODEL_ea75ba3a3f334ed181f4e5cbb2f71d17",
       "value": " 3/3 [00:03&lt;00:00,  1.09s/it]"
      }
     },
     "ea75ba3a3f334ed181f4e5cbb2f71d17": {
      "model_module": "@jupyter-widgets/controls",
      "model_module_version": "1.5.0",
      "model_name": "DescriptionStyleModel",
      "state": {
       "_model_module": "@jupyter-widgets/controls",
       "_model_module_version": "1.5.0",
       "_model_name": "DescriptionStyleModel",
       "_view_count": null,
       "_view_module": "@jupyter-widgets/base",
       "_view_module_version": "1.2.0",
       "_view_name": "StyleView",
       "description_width": ""
      }
     },
     "f950875548524fbe80dae20240cbe41f": {
      "model_module": "@jupyter-widgets/controls",
      "model_module_version": "1.5.0",
      "model_name": "FloatProgressModel",
      "state": {
       "_dom_classes": [],
       "_model_module": "@jupyter-widgets/controls",
       "_model_module_version": "1.5.0",
       "_model_name": "FloatProgressModel",
       "_view_count": null,
       "_view_module": "@jupyter-widgets/controls",
       "_view_module_version": "1.5.0",
       "_view_name": "ProgressView",
       "bar_style": "success",
       "description": "",
       "description_tooltip": null,
       "layout": "IPY_MODEL_30960a2004234ac8851a6e2f898cadc5",
       "max": 3,
       "min": 0,
       "orientation": "horizontal",
       "style": "IPY_MODEL_0dd0c43082ea4e96ab5b17db9772c126",
       "value": 3
      }
     }
    },
    "version_major": 2,
    "version_minor": 0
   }
  }
 },
 "nbformat": 4,
 "nbformat_minor": 5
}
