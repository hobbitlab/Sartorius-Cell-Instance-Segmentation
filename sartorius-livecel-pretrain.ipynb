{
 "cells": [
  {
   "cell_type": "code",
   "execution_count": 1,
   "metadata": {},
   "outputs": [],
   "source": [
    "suffix = \"122523\" # 本次实验ID"
   ]
  },
  {
   "cell_type": "code",
   "execution_count": 2,
   "metadata": {
    "execution": {
     "iopub.execute_input": "2021-11-04T05:43:00.672332Z",
     "iopub.status.busy": "2021-11-04T05:43:00.672044Z",
     "iopub.status.idle": "2021-11-04T05:43:01.999625Z",
     "shell.execute_reply": "2021-11-04T05:43:01.998939Z",
     "shell.execute_reply.started": "2021-11-04T05:43:00.67228Z"
    }
   },
   "outputs": [],
   "source": [
    "import detectron2\n",
    "from pathlib import Path\n",
    "import random, cv2, os\n",
    "import matplotlib.pyplot as plt\n",
    "import numpy as np\n",
    "import pycocotools.mask as mask_util\n",
    "# import some common detectron2 utilities\n",
    "from detectron2 import model_zoo\n",
    "from detectron2.engine import DefaultPredictor, DefaultTrainer\n",
    "from detectron2.config import get_cfg\n",
    "from detectron2.utils.visualizer import Visualizer, ColorMode\n",
    "from detectron2.data import MetadataCatalog, DatasetCatalog\n",
    "from detectron2.data.datasets import register_coco_instances\n",
    "from detectron2.utils.logger import setup_logger\n",
    "from detectron2.evaluation.evaluator import DatasetEvaluator\n",
    "from detectron2.structures import polygons_to_bitmask\n",
    "from detectron2.evaluation import inference_on_dataset, print_csv_format\n",
    "from detectron2.utils import comm\n",
    "setup_logger()\n",
    "\n",
    "data_dir = '/home/xm/workspace/sartorius-cell-instance-segmentation' # 数据集地址\n",
    "live_data_dir = f\"{data_dir}/LIVECell_dataset_2021/images\" # livecell数据集地址"
   ]
  },
  {
   "cell_type": "markdown",
   "metadata": {},
   "source": [
    "### Load the LIVECell data"
   ]
  },
  {
   "cell_type": "code",
   "execution_count": null,
   "metadata": {
    "execution": {
     "iopub.execute_input": "2021-11-04T05:43:02.00215Z",
     "iopub.status.busy": "2021-11-04T05:43:02.000863Z",
     "iopub.status.idle": "2021-11-04T05:43:05.633793Z",
     "shell.execute_reply": "2021-11-04T05:43:05.633052Z",
     "shell.execute_reply.started": "2021-11-04T05:43:02.002106Z"
    }
   },
   "outputs": [],
   "source": [
    "cfg = get_cfg() # 生成detectron2的Config\n",
    "register_coco_instances('sartorius_train',{}, f'{data_dir}/livecell_annotations_train.json', live_data_dir) # 注册livecell train数据集\n",
    "register_coco_instances('sartorius_val',{},f'{data_dir}/livecell_annotations_val.json', live_data_dir) # 注册livecell valid数据集\n",
    "register_coco_instances('sartorius_test',{}, f'{data_dir}/livecell_annotations_test.json', live_data_dir) # 注册livecell test数据集\n",
    "metadata = MetadataCatalog.get('sartorius_train')\n",
    "train_ds = DatasetCatalog.get('sartorius_train')"
   ]
  },
  {
   "cell_type": "markdown",
   "metadata": {},
   "source": [
    "### Define evaluator "
   ]
  },
  {
   "cell_type": "code",
   "execution_count": 4,
   "metadata": {
    "execution": {
     "iopub.execute_input": "2021-11-04T05:43:06.875503Z",
     "iopub.status.busy": "2021-11-04T05:43:06.875274Z",
     "iopub.status.idle": "2021-11-04T05:43:06.893155Z",
     "shell.execute_reply": "2021-11-04T05:43:06.892489Z",
     "shell.execute_reply.started": "2021-11-04T05:43:06.875472Z"
    }
   },
   "outputs": [],
   "source": [
    "def polygon_to_rle(polygon, shape=(520, 704)):\n",
    "    '''\n",
    "    polygon格式 转 rle格式\n",
    "    '''\n",
    "    #print(polygon)\n",
    "    mask = polygons_to_bitmask([np.asarray(polygon) + 0.25], shape[0], shape[1])\n",
    "\n",
    "    rle = mask_util.encode(np.asfortranarray(mask))\n",
    "    return rle\n",
    "\n",
    "# Taken from https://www.kaggle.com/theoviel/competition-metric-map-iou\n",
    "def precision_at(threshold, iou):\n",
    "    '''\n",
    "    计算TP, FP, FN\n",
    "    '''\n",
    "    matches = iou > threshold\n",
    "    true_positives = np.sum(matches, axis=1) == 1  # Correct objects\n",
    "    false_positives = np.sum(matches, axis=0) == 0  # Missed objects\n",
    "    false_negatives = np.sum(matches, axis=1) == 0  # Extra objects\n",
    "    return np.sum(true_positives), np.sum(false_positives), np.sum(false_negatives)\n",
    "\n",
    "def score(pred, targ):\n",
    "    '''\n",
    "    计算AP score\n",
    "    '''\n",
    "    pred_masks = pred['instances'].pred_masks.cpu().numpy()\n",
    "    enc_preds = [mask_util.encode(np.asarray(p, order='F')) for p in pred_masks]\n",
    "    enc_targs = list(map(lambda x:x['segmentation'], targ))\n",
    "    enc_targs = [polygon_to_rle(enc_targ[0]) for enc_targ in enc_targs]\n",
    "    ious = mask_util.iou(enc_preds, enc_targs, [0]*len(enc_targs))\n",
    "    prec = []\n",
    "    for t in np.arange(0.5, 1.0, 0.05):\n",
    "        tp, fp, fn = precision_at(t, ious)\n",
    "        p = tp / (tp + fp + fn)\n",
    "        prec.append(p)\n",
    "    return np.mean(prec)\n",
    "\n",
    "class MAPIOUEvaluator(DatasetEvaluator):\n",
    "    '''\n",
    "    验证和测试阶段的MAP IOU计算\n",
    "    '''\n",
    "    def __init__(self, dataset_name):\n",
    "        dataset_dicts = DatasetCatalog.get(dataset_name)\n",
    "        self.annotations_cache = {item['image_id']:item['annotations'] for item in dataset_dicts}\n",
    "            \n",
    "    def reset(self):\n",
    "        self.scores = []\n",
    "\n",
    "    def process(self, inputs, outputs):\n",
    "        for inp, out in zip(inputs, outputs):\n",
    "            if len(out['instances']) == 0:\n",
    "                self.scores.append(0)    \n",
    "            else:\n",
    "                targ = self.annotations_cache[inp['image_id']]\n",
    "                self.scores.append(score(out, targ))\n",
    "\n",
    "    def evaluate(self):\n",
    "        return {\"MaP IoU\": np.mean(self.scores)}\n",
    "\n",
    "# 训练器\n",
    "class Trainer(DefaultTrainer):\n",
    "    @classmethod\n",
    "    def build_evaluator(cls, cfg, dataset_name, output_folder=None):\n",
    "        return MAPIOUEvaluator(dataset_name)"
   ]
  },
  {
   "cell_type": "markdown",
   "metadata": {},
   "source": [
    "### Train"
   ]
  },
  {
   "cell_type": "code",
   "execution_count": 5,
   "metadata": {
    "_kg_hide-output": false,
    "execution": {
     "iopub.execute_input": "2021-11-04T05:43:06.89514Z",
     "iopub.status.busy": "2021-11-04T05:43:06.894652Z"
    },
    "scrolled": false
   },
   "outputs": [],
   "source": [
    "cfg.merge_from_file(model_zoo.get_config_file(\"COCO-InstanceSegmentation/mask_rcnn_R_50_FPN_3x.yaml\")) # 使用 mask_rcnn_R_50_FPN_3x 模型\n",
    "cfg.DATASETS.TRAIN = (\"sartorius_train\", \"sartorius_test\") # 创建训练集（这里合并了test）\n",
    "cfg.DATASETS.TEST = (\"sartorius_val\",)\n",
    "cfg.DATALOADER.NUM_WORKERS = 10 # cpu线程数\n",
    "cfg.MODEL.WEIGHTS = model_zoo.get_checkpoint_url(\"COCO-InstanceSegmentation/mask_rcnn_R_50_FPN_3x.yaml\") # checkpoint选择yaml从头训练"
   ]
  },
  {
   "cell_type": "code",
   "execution_count": null,
   "metadata": {},
   "outputs": [],
   "source": [
    "cfg.SOLVER.IMS_PER_BATCH = 1 # 每个batch包含的图片数量\n",
    "cfg.SOLVER.BASE_LR = 0.001 # 初始学习率\n",
    "cfg.SOLVER.MAX_ITER = 260000 # 迭代总次数\n",
    "cfg.SOLVER.STEPS = [] # 学习率下降的step位置，这里为空，则学习率保持不变\n",
    "cfg.SOLVER.CHECKPOINT_PERIOD = (len(DatasetCatalog.get('sartorius_train')) + len(DatasetCatalog.get('sartorius_test'))) // cfg.SOLVER.IMS_PER_BATCH  # 每个epoch都保存一次模型\n",
    "cfg.MODEL.ROI_HEADS.BATCH_SIZE_PER_IMAGE = 128  # 每个图像用于训练RPN的区域数\n",
    "cfg.MODEL.ROI_HEADS.NUM_CLASSES = 10 # 标签类别数量\n",
    "cfg.MODEL.ROI_HEADS.SCORE_THRESH_TEST = .4 # 最小分数阈值（假设分数在[0, 1]范围内）；选择这个值是为了平衡获得高召回率和没有太多的低精度检测，因为低精度检测会减慢推理的后处理步骤（如NMS）。\n",
    "cfg.TEST.EVAL_PERIOD = (len(DatasetCatalog.get('sartorius_train')) + len(DatasetCatalog.get('sartorius_test'))) // cfg.SOLVER.IMS_PER_BATCH  # 每个epoch都做一次验证\n",
    "\n",
    "cfg.OUTPUT_DIR = f\"./output/livecell_{suffix}\" # 模型/日志 输出保存地址\n",
    "os.makedirs(cfg.OUTPUT_DIR, exist_ok=True)\n",
    "print(cfg.OUTPUT_DIR)\n",
    "\n",
    "cfg.SEED = 42 # 随机种子\n",
    "\n",
    "cfg.MODEL.ANCHOR_GENERATOR.ASPECT_RATIOS = [[0.2, 0.5, 1.0, 2.0, 5.0]] # anchor长和宽的比例\n",
    "cfg.MODEL.ANCHOR_GENERATOR.SIZES = [[4], [8],[16],[64],[256]] # anchor的尺寸\n",
    "\n",
    "cfg.INPUT.MIN_SIZE_TRAIN = (480, 520,  560, 640, 672, 736, 800, 864, 928)  # 训练阶段短边的最小值（多尺寸）\n",
    "cfg.INPUT.MIN_SIZE_TEST = 928 # 测试阶段短边的最小值\n",
    "cfg.INPUT.MAX_SIZE_TEST = 1333 # 测试阶段短边的最大值\n",
    "cfg.INPUT.MAX_SIZE_TRAIN = 1333 # 训练阶段短边的最大值\n",
    "\n"
   ]
  },
  {
   "cell_type": "code",
   "execution_count": null,
   "metadata": {
    "scrolled": true
   },
   "outputs": [],
   "source": [
    "# 开始训练\n",
    "trainer = Trainer(cfg) \n",
    "trainer.resume_or_load(resume=False)\n",
    "trainer.train()"
   ]
  },
  {
   "cell_type": "code",
   "execution_count": null,
   "metadata": {
    "scrolled": true
   },
   "outputs": [],
   "source": []
  },
  {
   "cell_type": "code",
   "execution_count": null,
   "metadata": {},
   "outputs": [],
   "source": []
  }
 ],
 "metadata": {
  "kernelspec": {
   "display_name": "py37",
   "language": "python",
   "name": "py37"
  },
  "language_info": {
   "codemirror_mode": {
    "name": "ipython",
    "version": 3
   },
   "file_extension": ".py",
   "mimetype": "text/x-python",
   "name": "python",
   "nbconvert_exporter": "python",
   "pygments_lexer": "ipython3",
   "version": "3.7.10"
  }
 },
 "nbformat": 4,
 "nbformat_minor": 4
}
